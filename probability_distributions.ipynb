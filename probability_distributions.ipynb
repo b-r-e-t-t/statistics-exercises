{
 "cells": [
  {
   "cell_type": "code",
   "execution_count": 1,
   "id": "96cfbc02",
   "metadata": {},
   "outputs": [],
   "source": [
    "import matplotlib.pyplot as plt\n",
    "import numpy as np\n",
    "import pandas as pd\n",
    "from scipy import stats\n",
    "from env import host, user, password"
   ]
  },
  {
   "cell_type": "code",
   "execution_count": 2,
   "id": "8051dff0",
   "metadata": {},
   "outputs": [
    {
     "data": {
      "image/png": "[encoded data removed]",
      "text/plain": [
       "<Figure size 432x288 with 1 Axes>"
      ]
     },
     "metadata": {
      "needs_background": "light"
     },
     "output_type": "display_data"
    }
   ],
   "source": [
    "#1. A bank found that the average number of cars waiting during the noon hour at a drive-up window \n",
    "#follows a Poisson distribution with a mean of 2 cars. Make a chart of this distribution and answer \n",
    "#these questions concerning the probability of cars waiting at the drive-up window.\n",
    "\n",
    "λ = 2\n",
    "x = np.arange(0,10)\n",
    "y = stats.poisson(λ).pmf(x)\n",
    "\n",
    "plt.bar(x,y)\n",
    "plt.title('Poisson distribution')\n",
    "plt.xlabel('Number of cars')\n",
    "plt.ylabel('Probability');\n"
   ]
  },
  {
   "cell_type": "code",
   "execution_count": 3,
   "id": "0f2954a4",
   "metadata": {},
   "outputs": [
    {
     "name": "stdout",
     "output_type": "stream",
     "text": [
      "Probability (in %) that no cars drive up in the noon hours: 14\n"
     ]
    }
   ],
   "source": [
    "# What is the probability that no cars drive up in the noon hour?\n",
    "print(\"Probability (in %) that no cars drive up in the noon hours:\", round(stats.poisson(λ).pmf(0) * 100))"
   ]
  },
  {
   "cell_type": "code",
   "execution_count": 4,
   "id": "6ae30d5d",
   "metadata": {},
   "outputs": [
    {
     "name": "stdout",
     "output_type": "stream",
     "text": [
      "Probability (in %) that 3 or more cars come through in the noon hour: 32\n"
     ]
    }
   ],
   "source": [
    "# What is the probability that 3 or more cars come through the drive through?\n",
    "print(\"Probability (in %) that 3 or more cars come through in the noon hour:\", round(stats.poisson(λ).sf(2) * 100))"
   ]
  },
  {
   "cell_type": "code",
   "execution_count": 5,
   "id": "0f8c1154",
   "metadata": {},
   "outputs": [
    {
     "name": "stdout",
     "output_type": "stream",
     "text": [
      "Probability (in %) that 1 or more cars come through in the noon hour: 86\n"
     ]
    }
   ],
   "source": [
    "# How likely is it that the drive through gets at least 1 car?\n",
    "print(\"Probability (in %) that 1 or more cars come through in the noon hour:\", round(stats.poisson(λ).sf(0) * 100))"
   ]
  },
  {
   "cell_type": "code",
   "execution_count": 6,
   "id": "9cc613eb",
   "metadata": {},
   "outputs": [
    {
     "name": "stdout",
     "output_type": "stream",
     "text": [
      "GPA required to be in top 5%: 3.49\n"
     ]
    }
   ],
   "source": [
    "#2. Grades of State University graduates are normally distributed with a mean of 3.0 and a standard deviation of .3. \n",
    "# Calculate the following:\n",
    "\n",
    "# What grade point average is required to be in the top 5% of the graduating class?\n",
    "\n",
    "print(\"GPA required to be in top 5%:\", round(stats.norm(3.0, 0.3).isf(0.05), 2))"
   ]
  },
  {
   "cell_type": "code",
   "execution_count": 7,
   "id": "53bd1549",
   "metadata": {},
   "outputs": [
    {
     "name": "stdout",
     "output_type": "stream",
     "text": [
      "GPA max for bottom 15% of the class: 2.69\n"
     ]
    }
   ],
   "source": [
    "# What GPA constitutes the bottom 15% of the class?\n",
    "print(\"GPA max for bottom 15% of the class:\", round(stats.norm(3.0, 0.3).ppf(0.15), 2))"
   ]
  },
  {
   "cell_type": "code",
   "execution_count": 8,
   "id": "b4334063",
   "metadata": {},
   "outputs": [
    {
     "name": "stdout",
     "output_type": "stream",
     "text": [
      "Eccentric Alumnus Scholarship GPA Range: [2.75 2.84]\n"
     ]
    }
   ],
   "source": [
    "# An eccentric alumnus left scholarship money for students in the third decile from the bottom of their class. \n",
    "# Determine the range of the third decile. Would a student with a 2.8 grade point average qualify for \n",
    "# this scholarship?\n",
    "print(\"Eccentric Alumnus Scholarship GPA Range:\", stats.norm(3, 0.3).ppf([0.2, 0.3]).round(decimals=2))"
   ]
  },
  {
   "cell_type": "code",
   "execution_count": 9,
   "id": "4c68cd1f",
   "metadata": {},
   "outputs": [
    {
     "name": "stdout",
     "output_type": "stream",
     "text": [
      "GPA of 3.5 is in the top 95 percent of the class.\n"
     ]
    }
   ],
   "source": [
    "# If I have a GPA of 3.5, what percentile am I in?\n",
    "student_gpa = 3.5\n",
    "print(\"GPA of\", student_gpa, \"is in the top\", round(stats.norm(3, 0.3).cdf(student_gpa) * 100), \"percent of the class.\")"
   ]
  },
  {
   "cell_type": "code",
   "execution_count": 10,
   "id": "3adcc108",
   "metadata": {},
   "outputs": [
    {
     "name": "stdout",
     "output_type": "stream",
     "text": [
      "Percent liklihood of 97 click-throughs with a click-through rate of 2 is: 14\n"
     ]
    }
   ],
   "source": [
    "# 3. A marketing website has an average click-through rate of 2%. One day they observe 4326 visitors \n",
    "# and 97 click-throughs. How likely is it that this many people or more click through?\n",
    "\n",
    "click_through_rate = 0.02\n",
    "visitors = 4326\n",
    "click_throughs = 97\n",
    "\n",
    "print(\"Percent liklihood of\", click_throughs, \"click-throughs with a click-through rate of\", \n",
    "      round(click_through_rate * 100), \"is:\", round(stats.binom(visitors, click_through_rate).sf(click_throughs - 1) * 100))\n",
    "# Don't forget to subtract or account for the inclusivity"
   ]
  },
  {
   "cell_type": "code",
   "execution_count": 11,
   "id": "a4dab480",
   "metadata": {},
   "outputs": [
    {
     "name": "stdout",
     "output_type": "stream",
     "text": [
      "Percent liklihood of correct guess after 60 questions: 45.28\n"
     ]
    }
   ],
   "source": [
    "# 4. You are working on some statistics homework consisting of 100 questions where all of the answers \n",
    "# are a probability rounded to the hundreths place. Looking to save time, you put down random probabilities \n",
    "# as the answer to each question.\n",
    "#    - What is the probability that at least one of your first 60 answers is correct?\n",
    "\n",
    "questions_tried = 60\n",
    "guess_probability = .01\n",
    "print(\"Percent liklihood of correct guess after\", questions_tried, \"questions:\",\n",
    "      round(stats.binom(questions_tried, guess_probability).sf(0) * 100, 2))"
   ]
  },
  {
   "cell_type": "code",
   "execution_count": 12,
   "id": "e9789803",
   "metadata": {},
   "outputs": [
    {
     "name": "stdout",
     "output_type": "stream",
     "text": [
      "Percent liklihood of cleaning for a single day: 83.42\n"
     ]
    }
   ],
   "source": [
    "# 5. The codeup staff tends to get upset when the student break area is not cleaned up. \n",
    "# Suppose that there's a 3% chance that any one student cleans the break area when they visit it, \n",
    "# and, on any given day, about 90% of the 3 active cohorts of 22 students visit the break area. \n",
    "# How likely is it that the break area gets cleaned up each day? \n",
    "\n",
    "chance_of_cleaning = .03\n",
    "visits_per_day = 59\n",
    "print(\"Percent liklihood of cleaning for a single day:\", round(stats.binom(visits_per_day, chance_of_cleaning).sf(0)* 100, 2))"
   ]
  },
  {
   "cell_type": "code",
   "execution_count": 13,
   "id": "fd0db871",
   "metadata": {},
   "outputs": [
    {
     "name": "stdout",
     "output_type": "stream",
     "text": [
      "Percent liklihood of no cleaning for two days: 2.75\n"
     ]
    }
   ],
   "source": [
    "# How likely is it that it goes two days without getting cleaned up? \n",
    "print(\"Percent liklihood of no cleaning for two days:\", round(stats.binom(visits_per_day * 2, chance_of_cleaning).pmf(0) * 100, 2))"
   ]
  },
  {
   "cell_type": "code",
   "execution_count": 14,
   "id": "26bea626",
   "metadata": {},
   "outputs": [
    {
     "name": "stdout",
     "output_type": "stream",
     "text": [
      "Percent liklihood of no cleaning all week: 0.01\n"
     ]
    }
   ],
   "source": [
    "# All week?\n",
    "print(\"Percent liklihood of no cleaning all week:\", round(stats.binom(visits_per_day * 5, chance_of_cleaning).pmf(0) * 100, 2))"
   ]
  },
  {
   "cell_type": "code",
   "execution_count": 15,
   "id": "9b6a165e",
   "metadata": {},
   "outputs": [
    {
     "name": "stdout",
     "output_type": "stream",
     "text": [
      "Percent liklihood of having 15 minutes to eat: 69.15\n"
     ]
    }
   ],
   "source": [
    "# You want to get lunch at La Panaderia, but notice that the line is usually very long at lunchtime. \n",
    "# After several weeks of careful observation, you notice that the average number of people in line \n",
    "# when your lunch break starts is normally distributed with a mean of 15 and standard deviation of 3. \n",
    "# If it takes 2 minutes for each person to order, and 10 minutes from ordering to getting your food, what is \n",
    "# the likelihood that you have at least 15 minutes left to eat your food before you have to go back to class? \n",
    "# Assume you have one hour for lunch, and ignore travel time to and from La Panaderia.\n",
    "\n",
    "mean_wait = 30\n",
    "std_dev = 6\n",
    "max_time = 60 - 10 - 15 - 2\n",
    "# Forgot to account for your own ordering time, added the extra '- 2' for that\n",
    "\n",
    "print(\"Percent liklihood of having 15 minutes to eat:\", round(stats.norm(mean_wait, std_dev).cdf(max_time) * 100, 2))"
   ]
  },
  {
   "cell_type": "code",
   "execution_count": 26,
   "id": "69404b4c",
   "metadata": {},
   "outputs": [],
   "source": [
    "# 7. Connect to the employees database and find the average salary of current employees, along with the \n",
    "# standard deviation. For the following questions, calculate the answer based on modeling the employees \n",
    "# salaries with a normal distribution defined by the calculated mean and standard deviation then compare \n",
    "# this answer to the actual values present in the salaries dataset.\n",
    "\n",
    "def get_db_url(db_name):\n",
    "    from env import user, host, password\n",
    "    return f'mysql+pymysql://{user}:{password}@{host}/{db_name}'\n",
    "\n",
    "url = get_db_url('employees')\n",
    "\n",
    "salaries_df = pd.read_sql('SELECT * FROM salaries WHERE to_date > NOW()', url)\n",
    "mean_salary = salaries_df.salary.mean()\n",
    "std_dev = salaries_df.salary.std()"
   ]
  },
  {
   "cell_type": "code",
   "execution_count": 29,
   "id": "6b54e1e0",
   "metadata": {},
   "outputs": [
    {
     "name": "stdout",
     "output_type": "stream",
     "text": [
      "Percent of employees earning less than 60k: 24.39\n"
     ]
    }
   ],
   "source": [
    "# a. What percent of employees earn less than 60,000?\n",
    "print(\"Percent of employees earning less than 60k:\", round(stats.norm(mean_salary, std_dev).cdf(60000) * 100, 2))"
   ]
  },
  {
   "cell_type": "code",
   "execution_count": 31,
   "id": "89432e4b",
   "metadata": {},
   "outputs": [
    {
     "name": "stdout",
     "output_type": "stream",
     "text": [
      "Percent of employees earning more than 95k: 9.21\n"
     ]
    }
   ],
   "source": [
    "# b. What percent of employees earn more than 95,000\n",
    "print(\"Percent of employees earning more than 95k:\", round(stats.norm(mean_salary, std_dev).sf(95000) * 100, 2))"
   ]
  },
  {
   "cell_type": "code",
   "execution_count": 34,
   "id": "98bc6f7d",
   "metadata": {},
   "outputs": [
    {
     "data": {
      "text/plain": [
       "array([0.34270292, 0.67776349])"
      ]
     },
     "execution_count": 34,
     "metadata": {},
     "output_type": "execute_result"
    }
   ],
   "source": [
    "stats.norm(mean_salary, std_dev).cdf([65000, 80000])"
   ]
  },
  {
   "cell_type": "code",
   "execution_count": 44,
   "id": "042ada8d",
   "metadata": {},
   "outputs": [
    {
     "name": "stdout",
     "output_type": "stream",
     "text": [
      "Percent of employees earning betweekn 65 & 80k: 33.51\n"
     ]
    }
   ],
   "source": [
    "# c. What percent of employees earn between 65,000 and 80,000?\n",
    "print(\"Percent of employees earning betweekn 65 & 80k:\", round(float(np.diff(stats.norm(mean_salary, std_dev).cdf([65000, 80000]))*100),2))"
   ]
  },
  {
   "cell_type": "code",
   "execution_count": 46,
   "id": "ab81a28f",
   "metadata": {},
   "outputs": [
    {
     "name": "stdout",
     "output_type": "stream",
     "text": [
      "Top 5% of employees make at least: 100484.64\n"
     ]
    }
   ],
   "source": [
    "# d. What do the top 5% of employees make?\n",
    "print(\"Top 5% of employees make at least:\", round(stats.norm(mean_salary, std_dev).isf(0.05), 2))"
   ]
  },
  {
   "cell_type": "code",
   "execution_count": null,
   "id": "5fe0d968",
   "metadata": {},
   "outputs": [],
   "source": []
  }
 ],
 "metadata": {
  "kernelspec": {
   "display_name": "Python 3",
   "language": "python",
   "name": "python3"
  },
  "language_info": {
   "codemirror_mode": {
    "name": "ipython",
    "version": 3
   },
   "file_extension": ".py",
   "mimetype": "text/x-python",
   "name": "python",
   "nbconvert_exporter": "python",
   "pygments_lexer": "ipython3",
   "version": "3.8.8"
  }
 },
 "nbformat": 4,
 "nbformat_minor": 5
}
