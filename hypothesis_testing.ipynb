{
 "cells": [
  {
   "cell_type": "markdown",
   "id": "6c65c2a7",
   "metadata": {},
   "source": [
    "1. Has the network latency gone up since we switched internet service providers?\n",
    "\n",
    "- Null Hypothesis - There has been no significant change to our latency since we switched ISPs.\n",
    "- Alternative Hypothesis - Our average latency has gone up by at least 10% since we switched ISPs.\n",
    "- True Positive - We sample several times and find latency has gone up an average of 20% since we switched ISPs.\n",
    "- True Negative - We sample several times and find latency is exactly the same as with our preveious ISP.\n",
    "- False Positive - We sample only a handful of times during busy parts of the day and incorrectly conclude that latency has gone up.\n",
    "- False Negative - We sample only a handful of times during slow parts of the day and incorrectly conclude that latency has not changed."
   ]
  },
  {
   "cell_type": "markdown",
   "id": "b8f33203",
   "metadata": {},
   "source": [
    "2. Is the website redesign any good? (Rephrase: Changes to the website has resulted in longer dwell times on the website)\n",
    "\n",
    "- Null Hypothesis - Since the redesign, there has been no change in dwell time on the website.\n",
    "- Alternative Hypothesis - Since the redesign, there has been a notable increase in dwell time on the website.\n",
    "- True positive - We compare dwell times and find that dwell time has increased by 30%.\n",
    "- True negative - We compare dwell times and find that dwell time has not changed since the redesign.\n",
    "- False positive - We sample only a handful of users and incorrectly conclude that dwell time has increased.\n",
    "- False negative - We sample only a handful of users and incorrectly conclude that dweel time has remained constant.\n"
   ]
  },
  {
   "cell_type": "markdown",
   "id": "c6a9d0e3",
   "metadata": {},
   "source": [
    "3. Is our television ad driving more sales?\n",
    "\n",
    "- Null Hypothesis - Our new TV ad has not driven any new sales.\n",
    "- Alternative Hypothesis - Our new tv ad has driven more than $## in new sales.\n",
    "- True positive - We review sales/surveys and find that our ad has driven new sales.\n",
    "- True negative - We review sales/surveys and find that our ad has not driven new sales.\n",
    "- False positive - We find sales have gone up due to our TV ad when they have not (maybe sales went up for different reasons)\n",
    "- False negative - We find the TV ad didn't drive new sales when it in fact did (maybe sales fell in other areas for different reasons)"
   ]
  },
  {
   "cell_type": "code",
   "execution_count": 1,
   "id": "a8a3d388",
   "metadata": {},
   "outputs": [],
   "source": [
    "from math import sqrt\n",
    "from scipy import stats\n",
    "import matplotlib.pyplot as plt\n",
    "import numpy as np\n",
    "import pandas as pd\n",
    "from pydataset import data\n",
    "import statistics"
   ]
  },
  {
   "cell_type": "code",
   "execution_count": null,
   "id": "64837af8",
   "metadata": {},
   "outputs": [],
   "source": [
    "# Ace Realty wants to determine whether the average time it takes to sell homes is different for its two offices. \n",
    "# A sample of 40 sales from office #1 revealed a mean of 90 days and a standard deviation of 15 days. \n",
    "# A sample of 50 sales from office #2 revealed a mean of 100 days and a standard deviation of 20 days. \n",
    "# Use a .05 level of significance."
   ]
  },
  {
   "cell_type": "code",
   "execution_count": 14,
   "id": "0dae67b1",
   "metadata": {},
   "outputs": [],
   "source": [
    "alpha = .05\n",
    "ofc_one_sales = 40\n",
    "ofc_one_mean = 90\n",
    "ofc_one_std = 15\n",
    "ofc_two_sales = 50\n",
    "ofc_two_mean = 100\n",
    "ofc_two_std = 20"
   ]
  },
  {
   "cell_type": "code",
   "execution_count": 15,
   "id": "f04554de",
   "metadata": {},
   "outputs": [],
   "source": [
    "t, p = stats.ttest_ind_from_stats(ofc_one_mean, ofc_one_std, ofc_one_sales,\n",
    "                                  ofc_two_mean, ofc_two_std, ofc_two_sales)"
   ]
  },
  {
   "cell_type": "code",
   "execution_count": 17,
   "id": "a10c3612",
   "metadata": {},
   "outputs": [
    {
     "name": "stdout",
     "output_type": "stream",
     "text": [
      "We reject the null hypothesis\n"
     ]
    }
   ],
   "source": [
    "if p < alpha:\n",
    "    print(\"We reject the null hypothesis\")\n",
    "elif p >= alpha:\n",
    "    print(\"We fail to reject the null hypothesis\")\n",
    "else:\n",
    "    print(\"There is a glitch in the matrix\")"
   ]
  },
  {
   "cell_type": "code",
   "execution_count": 18,
   "id": "3202cad9",
   "metadata": {},
   "outputs": [],
   "source": [
    "# 2. Load the mpg dataset and use it to answer the following questions:\n",
    "\n",
    "mpg = data('mpg')"
   ]
  },
  {
   "cell_type": "code",
   "execution_count": 22,
   "id": "9c55d68a",
   "metadata": {},
   "outputs": [],
   "source": [
    "# Is there a difference in fuel-efficiency in cars from 2008 vs 1999?\n",
    "\n",
    "mpg = mpg.assign(average_mileage = ((mpg.cty + mpg.hwy)/2))\n",
    "mileage_99 = mpg[mpg.year == 1999].average_mileage\n",
    "mileage_08 = mpg[mpg.year == 2008].average_mileage\n",
    "t, p = stats.ttest_ind(mileage_08, mileage_99)"
   ]
  },
  {
   "cell_type": "code",
   "execution_count": 23,
   "id": "bcda5ac5",
   "metadata": {},
   "outputs": [
    {
     "name": "stdout",
     "output_type": "stream",
     "text": [
      "We fail to reject the null hypothesis\n"
     ]
    }
   ],
   "source": [
    "if p < alpha:\n",
    "    print(\"We reject the null hypothesis\")\n",
    "elif p >= alpha:\n",
    "    print(\"We fail to reject the null hypothesis\")\n",
    "else:\n",
    "    print(\"There is a glitch in the matrix\")"
   ]
  },
  {
   "cell_type": "code",
   "execution_count": 24,
   "id": "d1016506",
   "metadata": {},
   "outputs": [
    {
     "data": {
      "text/plain": [
       "(7.896888573132535, 2.0992818971585668e-10, 0.05)"
      ]
     },
     "execution_count": 24,
     "metadata": {},
     "output_type": "execute_result"
    }
   ],
   "source": [
    "# Are compact cars more fuel-efficient than the average car?\n",
    "\n",
    "mileage_compact = mpg[mpg['class'] == 'compact'].average_mileage\n",
    "μ = mpg.average_mileage.mean()\n",
    "t, p = stats.ttest_1samp(mileage_compact, μ)"
   ]
  },
  {
   "cell_type": "code",
   "execution_count": 25,
   "id": "8339ebb7",
   "metadata": {},
   "outputs": [
    {
     "name": "stdout",
     "output_type": "stream",
     "text": [
      "We reject the null hypothesis\n"
     ]
    }
   ],
   "source": [
    "if p/2 < alpha or t < 0:\n",
    "    print(\"We reject the null hypothesis\")\n",
    "elif p/2 >= alpha and t > 0:\n",
    "    print(\"We fail to reject the null hypothesis\")\n",
    "else:\n",
    "    print(\"There is a glitch in the matrix\")"
   ]
  },
  {
   "cell_type": "code",
   "execution_count": 30,
   "id": "1e510b18",
   "metadata": {},
   "outputs": [],
   "source": [
    "# Do manual cars get better gas mileage than automatic cars?\n",
    "\n",
    "mileage_manual = mpg[mpg.trans.str.contains('man')].average_mileage\n",
    "mileage_automatic = mpg[mpg.trans.str.contains('auto')].average_mileage\n",
    "t, p = stats.ttest_ind(mileage_manual, mileage_automatic, equal_var = True)"
   ]
  },
  {
   "cell_type": "code",
   "execution_count": 31,
   "id": "29c8f4f9",
   "metadata": {},
   "outputs": [
    {
     "name": "stdout",
     "output_type": "stream",
     "text": [
      "We reject the null hypothesis\n"
     ]
    }
   ],
   "source": [
    "if p/2 < alpha or t < 0:\n",
    "    print(\"We reject the null hypothesis\")\n",
    "elif p/2 >= alpha and t > 0:\n",
    "    print(\"We fail to reject the null hypothesis\")\n",
    "else:\n",
    "    print(\"There is a glitch in the matrix\")"
   ]
  },
  {
   "cell_type": "code",
   "execution_count": 36,
   "id": "e98a9bca",
   "metadata": {},
   "outputs": [
    {
     "name": "stdout",
     "output_type": "stream",
     "text": [
      "We reject the null hypothesis\n"
     ]
    },
    {
     "data": {
      "text/plain": [
       "(0.24602222678861455, 1.8834273042677756e-97)"
      ]
     },
     "execution_count": 36,
     "metadata": {},
     "output_type": "execute_result"
    }
   ],
   "source": [
    "# Use the telco_churn data. Does tenure correlate with monthly charges? \n",
    "alpha = 0.05\n",
    "url = \"https://gist.githubusercontent.com/ryanorsinger/3fce5a65b5fb8ab728af5192c7de857e/raw/a0422b7b73749842611742a1064e99088a47917d/clean_telco.csv\"\n",
    "telco_df = pd.read_csv(url, index_col=\"id\")\n",
    "\n",
    "corr, p = stats.pearsonr(telco_df.tenure_month, telco_df.monthly_charges)\n",
    "\n",
    "if p < alpha:\n",
    "    print(\"We reject the null hypothesis\")\n",
    "elif p >= alpha:\n",
    "    print(\"We fail to reject the null hypothesis\")\n",
    "else:\n",
    "    print(\"There is a glitch in the matrix\")"
   ]
  },
  {
   "cell_type": "code",
   "execution_count": 37,
   "id": "27ebd826",
   "metadata": {},
   "outputs": [
    {
     "name": "stdout",
     "output_type": "stream",
     "text": [
      "We reject the null hypothesis\n"
     ]
    },
    {
     "data": {
      "text/plain": [
       "(0.8257328669183033, 0.0)"
      ]
     },
     "execution_count": 37,
     "metadata": {},
     "output_type": "execute_result"
    }
   ],
   "source": [
    "# Total charges? \n",
    "\n",
    "corr, p = stats.pearsonr(telco_df.tenure_month, telco_df.total_charges)\n",
    "\n",
    "if p < alpha:\n",
    "    print(\"We reject the null hypothesis\")\n",
    "elif p >= alpha:\n",
    "    print(\"We fail to reject the null hypothesis\")\n",
    "else:\n",
    "    print(\"There is a glitch in the matrix\")\n",
    "    \n",
    "corr, p"
   ]
  },
  {
   "cell_type": "code",
   "execution_count": 38,
   "id": "725f91c4",
   "metadata": {},
   "outputs": [],
   "source": [
    "# Use the employees database.\n",
    "# Is there a relationship between how long an employee has been with the company and their salary?\n",
    "from env import host, user, password\n",
    "\n",
    "def get_db_url(db_name):\n",
    "    from env import user, host, password\n",
    "    return f'mysql+pymysql://{user}:{password}@{host}/{db_name}'\n",
    "\n",
    "url = get_db_url('employees')"
   ]
  },
  {
   "cell_type": "code",
   "execution_count": 39,
   "id": "faa192f5",
   "metadata": {},
   "outputs": [
    {
     "data": {
      "text/html": [
       "<div>\n",
       "<style scoped>\n",
       "    .dataframe tbody tr th:only-of-type {\n",
       "        vertical-align: middle;\n",
       "    }\n",
       "\n",
       "    .dataframe tbody tr th {\n",
       "        vertical-align: top;\n",
       "    }\n",
       "\n",
       "    .dataframe thead th {\n",
       "        text-align: right;\n",
       "    }\n",
       "</style>\n",
       "<table border=\"1\" class=\"dataframe\">\n",
       "  <thead>\n",
       "    <tr style=\"text-align: right;\">\n",
       "      <th></th>\n",
       "      <th>salary</th>\n",
       "      <th>tenure</th>\n",
       "    </tr>\n",
       "  </thead>\n",
       "  <tbody>\n",
       "    <tr>\n",
       "      <th>0</th>\n",
       "      <td>88958</td>\n",
       "      <td>7081</td>\n",
       "    </tr>\n",
       "    <tr>\n",
       "      <th>1</th>\n",
       "      <td>72527</td>\n",
       "      <td>7405</td>\n",
       "    </tr>\n",
       "    <tr>\n",
       "      <th>2</th>\n",
       "      <td>43311</td>\n",
       "      <td>7284</td>\n",
       "    </tr>\n",
       "    <tr>\n",
       "      <th>3</th>\n",
       "      <td>74057</td>\n",
       "      <td>7288</td>\n",
       "    </tr>\n",
       "    <tr>\n",
       "      <th>4</th>\n",
       "      <td>94692</td>\n",
       "      <td>7367</td>\n",
       "    </tr>\n",
       "  </tbody>\n",
       "</table>\n",
       "</div>"
      ],
      "text/plain": [
       "   salary  tenure\n",
       "0   88958    7081\n",
       "1   72527    7405\n",
       "2   43311    7284\n",
       "3   74057    7288\n",
       "4   94692    7367"
      ]
     },
     "execution_count": 39,
     "metadata": {},
     "output_type": "execute_result"
    }
   ],
   "source": [
    "tenure_df = pd.read_sql(\"SELECT salary, datediff(now(), from_date) as tenure FROM salaries WHERE to_date > now();\", url)"
   ]
  },
  {
   "cell_type": "code",
   "execution_count": 41,
   "id": "08985c4a",
   "metadata": {},
   "outputs": [
    {
     "name": "stdout",
     "output_type": "stream",
     "text": [
      "We reject the null hypothesis\n"
     ]
    }
   ],
   "source": [
    "corr, p = stats.pearsonr(tenure_df.tenure, tenure_df.salary)\n",
    "\n",
    "if p < alpha:\n",
    "    print(\"We reject the null hypothesis\")\n",
    "elif p >= alpha:\n",
    "    print(\"We fail to reject the null hypothesis\")\n",
    "else:\n",
    "    print(\"There is a glitch in the matrix\")"
   ]
  },
  {
   "cell_type": "code",
   "execution_count": 42,
   "id": "54beb49a",
   "metadata": {},
   "outputs": [],
   "source": [
    "# Is there a relationship between how long an employee has been with the company and the number of \n",
    "# titles they have had?\n",
    "\n",
    "sql = \"\"\"\n",
    "select emp_no, count(title) as title_count, datediff(curdate(), hire_date) as tenure\n",
    "from employees\n",
    "join titles using(emp_no)\n",
    "group by emp_no;\n",
    "\"\"\""
   ]
  },
  {
   "cell_type": "code",
   "execution_count": 43,
   "id": "409d84da",
   "metadata": {},
   "outputs": [],
   "source": [
    "tenure_df = pd.read_sql(sql, url)"
   ]
  },
  {
   "cell_type": "code",
   "execution_count": 50,
   "id": "fab787e6",
   "metadata": {},
   "outputs": [
    {
     "name": "stdout",
     "output_type": "stream",
     "text": [
      "We reject the null hypothesis\n"
     ]
    }
   ],
   "source": [
    "temp, p = stats.pearsonr(tenure_df.tenure, tenure_df.title_count)\n",
    "\n",
    "if p < alpha:\n",
    "    print(\"We reject the null hypothesis\")\n",
    "elif p >= alpha:\n",
    "    print(\"We fail to reject the null hypothesis\")\n",
    "else:\n",
    "    print(\"There is a glitch in the matrix\")"
   ]
  },
  {
   "cell_type": "code",
   "execution_count": 49,
   "id": "748e9829",
   "metadata": {},
   "outputs": [
    {
     "name": "stdout",
     "output_type": "stream",
     "text": [
      "We reject the null hypothesis\n"
     ]
    }
   ],
   "source": [
    "# Use the sleepstudy data. Is there a relationship between days and reaction time?\n",
    "sleep_df = data(\"sleepstudy\")\n",
    "temp, p = stats.pearsonr(sleep_df.Days, sleep_df.Reaction)\n",
    "\n",
    "if p < alpha:\n",
    "    print(\"We reject the null hypothesis\")\n",
    "elif p >= alpha:\n",
    "    print(\"We fail to reject the null hypothesis\")\n",
    "else:\n",
    "    print(\"There is a glitch in the matrix\")"
   ]
  },
  {
   "cell_type": "code",
   "execution_count": 57,
   "id": "920f746c",
   "metadata": {},
   "outputs": [],
   "source": [
    "# Use the following contingency table to help answer the question of whether using a macbook \n",
    "# and being a codeup student are independent of each other.\n",
    "d = {'codeup': [49, 1], 'non_codeup': [20, 30]}\n",
    "usage_df = pd.DataFrame(data=d, index = ['macbook', 'non_macbook'])"
   ]
  },
  {
   "cell_type": "code",
   "execution_count": 55,
   "id": "9b74d236",
   "metadata": {},
   "outputs": [
    {
     "name": "stdout",
     "output_type": "stream",
     "text": [
      "Observed\n",
      "\n",
      "[[49 20]\n",
      " [ 1 30]]\n",
      "---\n",
      "Expected\n",
      "\n",
      "[[34.5 34.5]\n",
      " [15.5 15.5]]\n",
      "---\n",
      "\n",
      "chi^2 = 36.6526\n",
      "p     = 0.0000\n"
     ]
    }
   ],
   "source": [
    "chi2, p, degf, expected = stats.chi2_contingency(usage_df)\n",
    "\n",
    "print('Observed\\n')\n",
    "print(usage_df.values)\n",
    "print('---\\nExpected\\n')\n",
    "print(expected)\n",
    "print('---\\n')\n",
    "print(f'chi^2 = {chi2:.4f}')\n",
    "print(f'p     = {p:.4f}')"
   ]
  },
  {
   "cell_type": "code",
   "execution_count": 56,
   "id": "1688c110",
   "metadata": {},
   "outputs": [
    {
     "name": "stdout",
     "output_type": "stream",
     "text": [
      "We reject the null hypothesis\n"
     ]
    }
   ],
   "source": [
    "if p < alpha:\n",
    "    print(\"We reject the null hypothesis\")\n",
    "elif p >= alpha:\n",
    "    print(\"We fail to reject the null hypothesis\")\n",
    "else:\n",
    "    print(\"There is a glitch in the matrix\")"
   ]
  },
  {
   "cell_type": "code",
   "execution_count": 61,
   "id": "af9490c0",
   "metadata": {},
   "outputs": [
    {
     "data": {
      "text/plain": [
       "manufacturer  model                displ  year  cyl  trans       drv  cty  hwy  fl  class       average_mileage\n",
       "dodge         ram 1500 pickup 4wd  4.7    2008  8    auto(l5)    4    13   17   r   pickup      15.0               2\n",
       "              durango 4wd          4.7    2008  8    auto(l5)    4    13   17   r   suv         15.0               2\n",
       "              caravan 2wd          3.3    2008  6    auto(l4)    f    17   24   r   minivan     20.5               2\n",
       "              dakota pickup 4wd    4.7    2008  8    auto(l5)    4    14   19   r   pickup      16.5               2\n",
       "ford          explorer 4wd         4.0    1999  6    auto(l5)    4    14   17   r   suv         15.5               2\n",
       "                                                                                                                  ..\n",
       "              mustang              3.8    1999  6    manual(m5)  r    18   26   r   subcompact  22.0               1\n",
       "                                   4.0    2008  6    auto(l5)    r    16   24   r   subcompact  20.0               1\n",
       "                                                     manual(m5)  r    17   26   r   subcompact  21.5               1\n",
       "                                   4.6    1999  8    auto(l4)    r    15   21   r   subcompact  18.0               1\n",
       "volkswagen    passat               3.6    2008  6    auto(s6)    f    17   26   p   midsize     21.5               1\n",
       "Length: 225, dtype: int64"
      ]
     },
     "execution_count": 61,
     "metadata": {},
     "output_type": "execute_result"
    }
   ],
   "source": [
    "# Choose another 2 categorical variables from the mpg dataset and perform a chi2\n",
    "# contingency table test with them. Be sure to state your null and alternative hypotheses.\n",
    "# Ho = There is no correlation between # of cylinders & manufacturer\n",
    "# Ha = There is a correlation between # of cylinders & manufacturer\n",
    "mpg.value_counts()\n"
   ]
  },
  {
   "cell_type": "code",
   "execution_count": 64,
   "id": "7b1467ae",
   "metadata": {},
   "outputs": [
    {
     "name": "stdout",
     "output_type": "stream",
     "text": [
      "Observed\n",
      "\n",
      "[[49 20]\n",
      " [ 1 30]]\n",
      "---\n",
      "Expected\n",
      "\n",
      "[[ 6.23076923  0.30769231  6.07692308  5.38461538]\n",
      " [ 6.57692308  0.32478632  6.41452991  5.68376068]\n",
      " [12.80769231  0.63247863 12.49145299 11.06837607]\n",
      " [ 8.65384615  0.42735043  8.44017094  7.47863248]\n",
      " [ 3.11538462  0.15384615  3.03846154  2.69230769]\n",
      " [ 4.84615385  0.23931624  4.72649573  4.18803419]\n",
      " [ 2.76923077  0.13675214  2.7008547   2.39316239]\n",
      " [ 1.38461538  0.06837607  1.35042735  1.1965812 ]\n",
      " [ 1.03846154  0.05128205  1.01282051  0.8974359 ]\n",
      " [ 1.38461538  0.06837607  1.35042735  1.1965812 ]\n",
      " [ 4.5         0.22222222  4.38888889  3.88888889]\n",
      " [ 1.73076923  0.08547009  1.68803419  1.4957265 ]\n",
      " [ 4.84615385  0.23931624  4.72649573  4.18803419]\n",
      " [11.76923077  0.58119658 11.47863248 10.17094017]\n",
      " [ 9.34615385  0.46153846  9.11538462  8.07692308]]\n",
      "---\n",
      "\n",
      "chi^2 = 198.1175\n",
      "p     = 0.0000\n"
     ]
    }
   ],
   "source": [
    "mpg_observed = pd.crosstab(mpg.manufacturer, mpg.cyl)\n",
    "chi2, p, degf, expected = stats.chi2_contingency(mpg_observed)\n",
    "\n",
    "print('Observed\\n')\n",
    "print(usage_df.values)\n",
    "print('---\\nExpected\\n')\n",
    "print(expected)\n",
    "print('---\\n')\n",
    "print(f'chi^2 = {chi2:.4f}')\n",
    "print(f'p     = {p:.4f}')\n"
   ]
  },
  {
   "cell_type": "code",
   "execution_count": 65,
   "id": "74092e12",
   "metadata": {},
   "outputs": [
    {
     "name": "stdout",
     "output_type": "stream",
     "text": [
      "We reject the null hypothesis\n"
     ]
    }
   ],
   "source": [
    "if p < alpha:\n",
    "    print(\"We reject the null hypothesis\")\n",
    "elif p >= alpha:\n",
    "    print(\"We fail to reject the null hypothesis\")\n",
    "else:\n",
    "    print(\"There is a glitch in the matrix\")"
   ]
  },
  {
   "cell_type": "code",
   "execution_count": 75,
   "id": "072145af",
   "metadata": {},
   "outputs": [],
   "source": [
    "# 3. Use the data from the employees database to answer these questions:\n",
    "# Is an employee's gender independent of whether an employee works in sales or marketing? \n",
    "# (only look at current employees)\n",
    "\n",
    "sql = '''\n",
    "SELECT employees.gender, departments.dept_name\n",
    "FROM dept_emp\n",
    "JOIN employees USING(emp_no)\n",
    "JOIN departments USING(dept_no)\n",
    "WHERE dept_emp.to_date > NOW()\n",
    "AND (departments.dept_name = 'Sales'\n",
    "OR departments.dept_name = 'Marketing');\n",
    "'''"
   ]
  },
  {
   "cell_type": "code",
   "execution_count": 76,
   "id": "43da5a6b",
   "metadata": {},
   "outputs": [],
   "source": [
    "emp_gender = pd.read_sql(sql, url)"
   ]
  },
  {
   "cell_type": "code",
   "execution_count": 78,
   "id": "d69c64d8",
   "metadata": {},
   "outputs": [
    {
     "name": "stdout",
     "output_type": "stream",
     "text": [
      "Observed\n",
      "\n",
      "[[49 20]\n",
      " [ 1 30]]\n",
      "---\n",
      "Expected\n",
      "\n",
      "[[ 5893.2426013 14969.7573987]\n",
      " [ 8948.7573987 22731.2426013]]\n",
      "---\n",
      "\n",
      "chi^2 = 0.3240\n",
      "p     = 0.5692\n"
     ]
    }
   ],
   "source": [
    "gender_observed = pd.crosstab(emp_gender.gender, emp_gender.dept_name)\n",
    "chi2, p, degf, expected = stats.chi2_contingency(gender_observed)\n",
    "\n",
    "print('Observed\\n')\n",
    "print(usage_df.values)\n",
    "print('---\\nExpected\\n')\n",
    "print(expected)\n",
    "print('---\\n')\n",
    "print(f'chi^2 = {chi2:.4f}')\n",
    "print(f'p     = {p:.4f}')\n"
   ]
  },
  {
   "cell_type": "code",
   "execution_count": 79,
   "id": "95257868",
   "metadata": {},
   "outputs": [
    {
     "name": "stdout",
     "output_type": "stream",
     "text": [
      "We fail to reject the null hypothesis\n"
     ]
    }
   ],
   "source": [
    "if p < alpha:\n",
    "    print(\"We reject the null hypothesis\")\n",
    "elif p >= alpha:\n",
    "    print(\"We fail to reject the null hypothesis\")\n",
    "else:\n",
    "    print(\"There is a glitch in the matrix\")"
   ]
  },
  {
   "cell_type": "code",
   "execution_count": null,
   "id": "05f4003b",
   "metadata": {},
   "outputs": [],
   "source": []
  }
 ],
 "metadata": {
  "kernelspec": {
   "display_name": "Python 3",
   "language": "python",
   "name": "python3"
  },
  "language_info": {
   "codemirror_mode": {
    "name": "ipython",
    "version": 3
   },
   "file_extension": ".py",
   "mimetype": "text/x-python",
   "name": "python",
   "nbconvert_exporter": "python",
   "pygments_lexer": "ipython3",
   "version": "3.8.8"
  }
 },
 "nbformat": 4,
 "nbformat_minor": 5
}
